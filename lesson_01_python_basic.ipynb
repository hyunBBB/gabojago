{
  "cells": [
    {
      "cell_type": "markdown",
      "metadata": {
        "id": "view-in-github",
        "colab_type": "text"
      },
      "source": [
        "<a href=\"https://colab.research.google.com/github/hyunBBB/gabojago/blob/main/lesson_01_python_basic.ipynb\" target=\"_parent\"><img src=\"https://colab.research.google.com/assets/colab-badge.svg\" alt=\"Open In Colab\"/></a>"
      ]
    },
    {
      "cell_type": "markdown",
      "metadata": {
        "id": "Oj_k6NxT0hEc"
      },
      "source": [
        "## 환경구성\n",
        "    Anaconda 환경\n",
        "    jupyter notebook"
      ]
    },
    {
      "cell_type": "markdown",
      "metadata": {
        "id": "P6QBNPys0hEt"
      },
      "source": [
        "### Jupyter notebook \n",
        "    mode\n",
        "        - 명령모드(esc)\n",
        "        - 편집모드(셀 선택 후 enter)"
      ]
    },
    {
      "cell_type": "code",
      "execution_count": null,
      "metadata": {
        "id": "oZjQKClw0hEw"
      },
      "outputs": [],
      "source": [
        ""
      ]
    },
    {
      "cell_type": "code",
      "execution_count": null,
      "metadata": {
        "id": "pSzha24E0hEx"
      },
      "outputs": [],
      "source": [
        ""
      ]
    },
    {
      "cell_type": "markdown",
      "metadata": {
        "id": "O8t8bomq0hEx"
      },
      "source": [
        "    Style\n",
        "        - markdown\n",
        "        - code"
      ]
    },
    {
      "cell_type": "markdown",
      "metadata": {
        "id": "VWA27bCI0hEy"
      },
      "source": [
        ""
      ]
    },
    {
      "cell_type": "markdown",
      "metadata": {
        "id": "LarMNRLT0hEz"
      },
      "source": [
        "이곳에는 노트를 작성하실 수 있습니다\n",
        "\n",
        "    - 1순위\n",
        "        - 2순위\n",
        "            - 3순위"
      ]
    },
    {
      "cell_type": "code",
      "execution_count": null,
      "metadata": {
        "id": "egmNYyvu0hE0"
      },
      "outputs": [],
      "source": [
        "python code"
      ]
    },
    {
      "cell_type": "markdown",
      "metadata": {
        "id": "TzJuCQx30hE1"
      },
      "source": [
        "    \n",
        "    단축키\n",
        "        - shift+enter : 아래 셀로 내려가면서 실행\n",
        "        - ctrl+enter : 현재 셀에 머무르면서 실행      \n",
        "        - dd(명령모드) : 셀 삭제\n",
        "        - a : 현재 선택된 셀 위에 새로운 셀 생성\n",
        "        - b : 현재 선택된 셀 아래에 새로운 셀 생성\n",
        "        - spacebar : 현재 화면을 위로 올림"
      ]
    },
    {
      "cell_type": "code",
      "source": [
        ""
      ],
      "metadata": {
        "id": "eMSf26Nu0rYb"
      },
      "execution_count": null,
      "outputs": []
    },
    {
      "cell_type": "code",
      "execution_count": null,
      "metadata": {
        "id": "z4zLsb-E0hE2",
        "outputId": "4d2309b4-a997-46ba-a8a4-feb1d107e58d"
      },
      "outputs": [
        {
          "name": "stdout",
          "output_type": "stream",
          "text": [
            "python\n"
          ]
        }
      ],
      "source": [
        "print(\"python\")"
      ]
    },
    {
      "cell_type": "code",
      "execution_count": null,
      "metadata": {
        "id": "UksFJ3xQ0hE4"
      },
      "outputs": [],
      "source": [
        ""
      ]
    },
    {
      "cell_type": "code",
      "execution_count": null,
      "metadata": {
        "id": "GRfXCgND0hE5"
      },
      "outputs": [],
      "source": [
        ""
      ]
    },
    {
      "cell_type": "code",
      "execution_count": null,
      "metadata": {
        "id": "jJIcT4vE0hE5"
      },
      "outputs": [],
      "source": [
        ""
      ]
    },
    {
      "cell_type": "code",
      "execution_count": null,
      "metadata": {
        "id": "am_SYZUW0hE5"
      },
      "outputs": [],
      "source": [
        ""
      ]
    },
    {
      "cell_type": "markdown",
      "metadata": {
        "id": "n72gFW810hE6"
      },
      "source": [
        "#### magic command\n",
        "    - % : 한 줄의 magic command를 동작\n",
        "    - %% : 셀 단위의 magic command를 동작\n",
        "    - 주요 magic command\n",
        "        %pwd : 현재 jupyter notebook 파일의 경로\n",
        "        %ls : 현재 디렉토리의 파일 리스트 출력\n",
        "        %whos : 현재 선언된 변수들을 출력\n",
        "        %reset : 현재 선언된 변수들을 전부 삭제"
      ]
    },
    {
      "cell_type": "code",
      "execution_count": null,
      "metadata": {
        "id": "Mf_khwJo0hE7",
        "outputId": "e25399fd-38a0-41e6-afc5-c169085296a5"
      },
      "outputs": [
        {
          "data": {
            "text/plain": [
              "'C:\\\\Users\\\\user\\\\Documents\\\\workspace'"
            ]
          },
          "execution_count": 4,
          "metadata": {},
          "output_type": "execute_result"
        }
      ],
      "source": [
        "%pwd"
      ]
    },
    {
      "cell_type": "markdown",
      "metadata": {
        "id": "2Q4tBuCe0hE7"
      },
      "source": [
        "#### shell command\n",
        "    - jupyter notebook을 실행한 shell 환경의 명령을 사용\n",
        "    - 명령어 앞에 !를 붙여서 실행    "
      ]
    },
    {
      "cell_type": "code",
      "execution_count": null,
      "metadata": {
        "id": "vdPSXbFd0hE8",
        "outputId": "6687db92-5870-4cd8-e55f-e36c53cc9331"
      },
      "outputs": [
        {
          "name": "stdout",
          "output_type": "stream",
          "text": [
            "Requirement already satisfied: numpy in c:\\users\\user\\anaconda3\\lib\\site-packages (1.19.2)\n"
          ]
        }
      ],
      "source": [
        "!pip install numpy"
      ]
    },
    {
      "cell_type": "markdown",
      "metadata": {
        "id": "VB36q4Mi0hE9"
      },
      "source": [
        "### 기본 문법\n",
        "    - 변수 선언, 식별자, 자료형, 형변환, 연산자"
      ]
    },
    {
      "cell_type": "markdown",
      "metadata": {
        "id": "EToIt6VL0hE9"
      },
      "source": [
        "#### 주석과 출력\n",
        "    - 주석 : 작성한 문장 맨 앞에 #을 붙이면 주석처리\n",
        "    - 출력 : 셀의 마지막 문장 하나만 결과로 출력\n",
        "            여러 결과나 코드 중간 변수 값을 출력하고 싶을때 print(출력물)로 작성"
      ]
    },
    {
      "cell_type": "code",
      "execution_count": null,
      "metadata": {
        "id": "1ipRKflt0hE-"
      },
      "outputs": [],
      "source": [
        "# as dkddkdkdkdkdkdkdk thrhrl ajrrhtlvek # 여기는 코드의 영역이 아닙니다\n",
        "# python\n",
        "# easyup\n",
        "# easy"
      ]
    },
    {
      "cell_type": "code",
      "execution_count": 1,
      "metadata": {
        "colab": {
          "base_uri": "https://localhost:8080/"
        },
        "id": "PfG5uadX0hE-",
        "outputId": "66d61c19-fed5-45ff-c555-188bc8b5ecb8"
      },
      "outputs": [
        {
          "output_type": "stream",
          "name": "stdout",
          "text": [
            "출력 예제 입니다\n",
            "출력 예제 입니다\n"
          ]
        }
      ],
      "source": [
        "print(\"출력 예제 입니다\")\n",
        "print(\"출력 예제 입니다\")"
      ]
    },
    {
      "cell_type": "code",
      "execution_count": null,
      "metadata": {
        "id": "i6cxWqXk0hE_",
        "outputId": "03e981cc-efcd-4248-a1f8-0a1fc0999246"
      },
      "outputs": [
        {
          "data": {
            "text/plain": [
              "30"
            ]
          },
          "execution_count": 8,
          "metadata": {},
          "output_type": "execute_result"
        }
      ],
      "source": [
        "a = 10\n",
        "b = 20\n",
        "# print(a+b)\n",
        "a + b"
      ]
    },
    {
      "cell_type": "code",
      "execution_count": null,
      "metadata": {
        "id": "B2KX7IhL0hE_",
        "outputId": "b4eaac0d-aa9b-4acd-a64f-fd19226fa6c4"
      },
      "outputs": [
        {
          "data": {
            "text/plain": [
              "'이 안에 설명을 쓰시면 됩니다.'"
            ]
          },
          "execution_count": 9,
          "metadata": {},
          "output_type": "execute_result"
        }
      ],
      "source": [
        "\"\"\"이 안에 설명을 쓰시면 됩니다.\"\"\""
      ]
    },
    {
      "cell_type": "code",
      "execution_count": 2,
      "metadata": {
        "colab": {
          "base_uri": "https://localhost:8080/"
        },
        "id": "2jp8P6af0hFA",
        "outputId": "c53d7e80-bf7b-4dd6-ae36-16bc313fefb1"
      },
      "outputs": [
        {
          "output_type": "stream",
          "name": "stdout",
          "text": [
            "안녕하세요\n",
            "1\n",
            "안녕하세요\n",
            "2\n",
            "안녕하세요\n",
            "3\n",
            "안녕하세요\n",
            "4\n",
            "안녕하세요\n",
            "5\n",
            "안녕하세요\n",
            "6\n",
            "안녕하세요\n",
            "7\n",
            "안녕하세요\n",
            "8\n",
            "안녕하세요\n",
            "9\n",
            "안녕하세요\n",
            "10\n"
          ]
        }
      ],
      "source": [
        "for i in range(1, 11):\n",
        "    print(\"안녕하세요\")\n",
        "    print(i)"
      ]
    },
    {
      "cell_type": "markdown",
      "metadata": {
        "id": "lhBGuS9m0hFA"
      },
      "source": [
        "    - docstring : 함수의 사용법을 설명 (단축키: shift+tab)\n",
        "    - 자동완성 : 코드의 일부분만 작성하고 뒷부분을 자동으로 채워주는 기능 (단축키: tab)"
      ]
    },
    {
      "cell_type": "code",
      "execution_count": 4,
      "metadata": {
        "id": "iyzfeKvA0hFB"
      },
      "outputs": [],
      "source": [
        "import random #ramdom 라이브러리를 불러오는 것"
      ]
    },
    {
      "cell_type": "code",
      "execution_count": 3,
      "metadata": {
        "colab": {
          "base_uri": "https://localhost:8080/",
          "height": 166
        },
        "id": "Vy6bE-1_0hFB",
        "outputId": "5419eed7-cc1d-489b-8b28-a65e32217f62"
      },
      "outputs": [
        {
          "output_type": "error",
          "ename": "NameError",
          "evalue": "ignored",
          "traceback": [
            "\u001b[0;31m---------------------------------------------------------------------------\u001b[0m",
            "\u001b[0;31mNameError\u001b[0m                                 Traceback (most recent call last)",
            "\u001b[0;32m<ipython-input-3-59b8c20afebd>\u001b[0m in \u001b[0;36m<module>\u001b[0;34m()\u001b[0m\n\u001b[0;32m----> 1\u001b[0;31m \u001b[0mrandom\u001b[0m\u001b[0;34m.\u001b[0m\u001b[0mrandint\u001b[0m\u001b[0;34m,\u001b[0m \u001b[0mrandom\u001b[0m\u001b[0;34m.\u001b[0m\u001b[0mrandom\u001b[0m\u001b[0;34m\u001b[0m\u001b[0;34m\u001b[0m\u001b[0m\n\u001b[0m",
            "\u001b[0;31mNameError\u001b[0m: name 'random' is not defined"
          ]
        }
      ],
      "source": [
        "random.randint, random.random"
      ]
    },
    {
      "cell_type": "markdown",
      "source": [
        ""
      ],
      "metadata": {
        "id": "IhC0YKvy2zDq"
      }
    },
    {
      "cell_type": "markdown",
      "metadata": {
        "id": "owC9Ew_I0hFB"
      },
      "source": [
        "#### 변수 선언\n",
        "    RAM 저장 공간에 값을 할당하는 행위"
      ]
    },
    {
      "cell_type": "code",
      "execution_count": 5,
      "metadata": {
        "colab": {
          "base_uri": "https://localhost:8080/"
        },
        "id": "fFIgvJHr0hFC",
        "outputId": "dcfecba1-0fc9-4104-ace1-41dfa851e5e0"
      },
      "outputs": [
        {
          "output_type": "stream",
          "name": "stdout",
          "text": [
            "30\n"
          ]
        }
      ],
      "source": [
        "a = 10\n",
        "b = 20\n",
        "c = a+b\n",
        "print(c)"
      ]
    },
    {
      "cell_type": "code",
      "execution_count": null,
      "metadata": {
        "id": "NoW3oobJ0hFC"
      },
      "outputs": [],
      "source": [
        "d, e, f = 40, 50, 60\n",
        "d, e, f"
      ]
    },
    {
      "cell_type": "code",
      "execution_count": null,
      "metadata": {
        "id": "_KOa6Hgg0hFD",
        "outputId": "922e2501-9728-42bd-c9f1-cec285dd2b6c"
      },
      "outputs": [
        {
          "data": {
            "text/plain": [
              "(70, 70)"
            ]
          },
          "execution_count": 15,
          "metadata": {},
          "output_type": "execute_result"
        }
      ],
      "source": [
        "g = h = 70\n",
        "g, h"
      ]
    },
    {
      "cell_type": "markdown",
      "metadata": {
        "id": "WA5avelr0hFD"
      },
      "source": [
        "#### 식별자\n",
        "    - 변수, 함수, 클래스, 모듈 등의 이름\n",
        "    - 규칙\n",
        "        - 소문자, 대문자, 숫자, _ (low dash / under_score)\n",
        "        - 가장 앞에 숫자 사용 불가\n",
        "        - 예약어 사용 불가 (def, class, int, ...) : 이미 python에서 문법적으로 정의되어 있는 식별자\n",
        "        - Convention\n",
        "            - snake_case : 변수, 함수\n",
        "            - CamelCase : class"
      ]
    },
    {
      "cell_type": "code",
      "execution_count": 8,
      "metadata": {
        "colab": {
          "base_uri": "https://localhost:8080/"
        },
        "id": "QYuNXTn40hFD",
        "outputId": "ec624cbc-4e81-4af4-d387-f5811d313a61"
      },
      "outputs": [
        {
          "output_type": "stream",
          "name": "stdout",
          "text": [
            "['False', 'None', 'True', 'and', 'as', 'assert', 'async', 'await', 'break', 'class', 'continue', 'def', 'del', 'elif', 'else', 'except', 'finally', 'for', 'from', 'global', 'if', 'import', 'in', 'is', 'lambda', 'nonlocal', 'not', 'or', 'pass', 'raise', 'return', 'try', 'while', 'with', 'yield']\n"
          ]
        }
      ],
      "source": [
        "import keyword\n",
        "print(keyword.kwlist)"
      ]
    },
    {
      "cell_type": "code",
      "execution_count": null,
      "metadata": {
        "id": "v9gXbwId0hFE"
      },
      "outputs": [],
      "source": [
        "candy_bar\n",
        "LowDashError"
      ]
    },
    {
      "cell_type": "markdown",
      "metadata": {
        "id": "L_TS4xbQ0hFE"
      },
      "source": [
        "#### 데이터 타입\n",
        "    - RAM 저장 공간을 효율적으로 사용하기 위해서 저장 공간의 타입 설정\n",
        "    - 동적 타이핑\n",
        "        - 변수 선언 시 저장되는 값에 따라서 자동으로 타입이 설정"
      ]
    },
    {
      "cell_type": "code",
      "execution_count": 9,
      "metadata": {
        "colab": {
          "base_uri": "https://localhost:8080/"
        },
        "id": "dwBq-ahn0hFE",
        "outputId": "8b0c4826-b4c6-46de-b80c-b51de385a3ab"
      },
      "outputs": [
        {
          "output_type": "stream",
          "name": "stdout",
          "text": [
            "Variable   Type      Data/Info\n",
            "------------------------------\n",
            "a          int       10\n",
            "b          int       20\n",
            "c          int       30\n",
            "i          int       10\n",
            "keyword    module    <module 'keyword' from '/<...>ib/python3.7/keyword.py'>\n",
            "np         module    <module 'numpy' from '/us<...>kages/numpy/__init__.py'>\n",
            "random     module    <module 'random' from '/u<...>lib/python3.7/random.py'>\n"
          ]
        }
      ],
      "source": [
        "%whos"
      ]
    },
    {
      "cell_type": "code",
      "execution_count": 10,
      "metadata": {
        "colab": {
          "base_uri": "https://localhost:8080/"
        },
        "id": "T2-r8Cmq0hFF",
        "outputId": "d9f62453-5955-4cf0-bc88-65c92b35282c"
      },
      "outputs": [
        {
          "name": "stdout",
          "output_type": "stream",
          "text": [
            "Once deleted, variables cannot be recovered. Proceed (y/[n])? y\n"
          ]
        }
      ],
      "source": [
        "%reset"
      ]
    },
    {
      "cell_type": "code",
      "execution_count": null,
      "metadata": {
        "id": "lRgMRl-R0hFF",
        "outputId": "1916d4a3-8d79-420a-830e-296fc2c0d128"
      },
      "outputs": [
        {
          "name": "stdout",
          "output_type": "stream",
          "text": [
            "Interactive namespace is empty.\n"
          ]
        }
      ],
      "source": [
        "%whos"
      ]
    },
    {
      "cell_type": "code",
      "execution_count": null,
      "metadata": {
        "id": "CdB3HAkR0hFF",
        "outputId": "7bc642ff-b58b-441c-d99f-a54be66b2540"
      },
      "outputs": [
        {
          "name": "stdout",
          "output_type": "stream",
          "text": [
            "The Zen of Python, by Tim Peters\n",
            "\n",
            "Beautiful is better than ugly.\n",
            "Explicit is better than implicit.\n",
            "Simple is better than complex.\n",
            "Complex is better than complicated.\n",
            "Flat is better than nested.\n",
            "Sparse is better than dense.\n",
            "Readability counts.\n",
            "Special cases aren't special enough to break the rules.\n",
            "Although practicality beats purity.\n",
            "Errors should never pass silently.\n",
            "Unless explicitly silenced.\n",
            "In the face of ambiguity, refuse the temptation to guess.\n",
            "There should be one-- and preferably only one --obvious way to do it.\n",
            "Although that way may not be obvious at first unless you're Dutch.\n",
            "Now is better than never.\n",
            "Although never is often better than *right* now.\n",
            "If the implementation is hard to explain, it's a bad idea.\n",
            "If the implementation is easy to explain, it may be a good idea.\n",
            "Namespaces are one honking great idea -- let's do more of those!\n"
          ]
        }
      ],
      "source": [
        "import this"
      ]
    }
  ],
  "metadata": {
    "hide_input": false,
    "kernelspec": {
      "display_name": "Python 3",
      "language": "python",
      "name": "python3"
    },
    "language_info": {
      "codemirror_mode": {
        "name": "ipython",
        "version": 3
      },
      "file_extension": ".py",
      "mimetype": "text/x-python",
      "name": "python",
      "nbconvert_exporter": "python",
      "pygments_lexer": "ipython3",
      "version": "3.8.5"
    },
    "toc": {
      "base_numbering": 1,
      "nav_menu": {},
      "number_sections": true,
      "sideBar": true,
      "skip_h1_title": false,
      "title_cell": "Table of Contents",
      "title_sidebar": "Contents",
      "toc_cell": false,
      "toc_position": {},
      "toc_section_display": true,
      "toc_window_display": false
    },
    "varInspector": {
      "cols": {
        "lenName": 16,
        "lenType": 16,
        "lenVar": 40
      },
      "kernels_config": {
        "python": {
          "delete_cmd_postfix": "",
          "delete_cmd_prefix": "del ",
          "library": "var_list.py",
          "varRefreshCmd": "print(var_dic_list())"
        },
        "r": {
          "delete_cmd_postfix": ") ",
          "delete_cmd_prefix": "rm(",
          "library": "var_list.r",
          "varRefreshCmd": "cat(var_dic_list()) "
        }
      },
      "types_to_exclude": [
        "module",
        "function",
        "builtin_function_or_method",
        "instance",
        "_Feature"
      ],
      "window_display": false
    },
    "colab": {
      "name": "lesson 01. python basic.ipynb",
      "provenance": [],
      "include_colab_link": true
    }
  },
  "nbformat": 4,
  "nbformat_minor": 0
}