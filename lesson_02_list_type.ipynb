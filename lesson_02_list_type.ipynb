{
  "cells": [
    {
      "cell_type": "markdown",
      "metadata": {
        "id": "view-in-github",
        "colab_type": "text"
      },
      "source": [
        "<a href=\"https://colab.research.google.com/github/hyunBBB/gabojago/blob/main/lesson_02_list_type.ipynb\" target=\"_parent\"><img src=\"https://colab.research.google.com/assets/colab-badge.svg\" alt=\"Open In Colab\"/></a>"
      ]
    },
    {
      "cell_type": "markdown",
      "metadata": {
        "id": "py_lXzkeg1-m"
      },
      "source": [
        "### 데이터타입 개념\n",
        "    1. 숫자\n",
        "    2. 문자\n",
        "    3. 리스트 []\n",
        "        - 순서가 있고 수정이 가능한 데이터 타입\n",
        "    4. 튜플(tuple) ()\n",
        "        - 순서가 있고 수정이 불가능한 데이터 타입\n",
        "    5. 사전(dict) {}\n",
        "        - 순서가 없고 키:값 쌍으로 구성된 데이터 타입"
      ]
    },
    {
      "cell_type": "markdown",
      "metadata": {
        "id": "q2eFwuplg1-q"
      },
      "source": [
        "#### 숫자와 문자형\n"
      ]
    },
    {
      "cell_type": "code",
      "execution_count": 1,
      "metadata": {
        "id": "5MvPcZB4g1-r",
        "colab": {
          "base_uri": "https://localhost:8080/"
        },
        "outputId": "71291070-0827-424f-8ae9-7df896a7261e"
      },
      "outputs": [
        {
          "output_type": "stream",
          "name": "stdout",
          "text": [
            "<class 'int'> 726 wn <class 'str'> birthday\n"
          ]
        }
      ],
      "source": [
        "a =726\n",
        "b = \"birthday\"\n",
        "print(type(a), a, \"wn\", type(b), b)"
      ]
    },
    {
      "cell_type": "markdown",
      "metadata": {
        "id": "ucf_F5QXg1-r"
      },
      "source": [
        "#### list"
      ]
    },
    {
      "cell_type": "code",
      "execution_count": 4,
      "metadata": {
        "id": "pFiImYn8g1-s",
        "colab": {
          "base_uri": "https://localhost:8080/"
        },
        "outputId": "0d376362-f22b-4e94-effa-1ec935731a1f"
      },
      "outputs": [
        {
          "output_type": "execute_result",
          "data": {
            "text/plain": [
              "(list, [True, 1, 2, '삼', [4, 'five'], 6, 0])"
            ]
          },
          "metadata": {},
          "execution_count": 4
        }
      ],
      "source": [
        "ls = [True, 1, 2, \"삼\", [4, \"five\"], 6,0]\n",
        "type(ls), ls\n"
      ]
    },
    {
      "cell_type": "markdown",
      "metadata": {
        "id": "4yfwd6jXg1-s"
      },
      "source": [
        "##### offset index : 순서가 있는 데이터 타입에서는 해당 index(위치)를 사용할 수 있다\n",
        "    - index의 순서는 0부터 시작"
      ]
    },
    {
      "cell_type": "code",
      "execution_count": 5,
      "metadata": {
        "id": "qhsPeTGdg1-t",
        "colab": {
          "base_uri": "https://localhost:8080/"
        },
        "outputId": "1313acf9-81b8-42fa-9e7e-812c46dfd5be"
      },
      "outputs": [
        {
          "output_type": "execute_result",
          "data": {
            "text/plain": [
              "('삼', [1, 2, '삼'], [0, 6, [4, 'five'], '삼', 2, 1, True])"
            ]
          },
          "metadata": {},
          "execution_count": 5
        }
      ],
      "source": [
        "ls[3], ls[1:4], ls[::-1]\n"
      ]
    },
    {
      "cell_type": "markdown",
      "metadata": {
        "id": "KkeUEJW1g1-v"
      },
      "source": [
        "##### 추가\n",
        "    - append()"
      ]
    },
    {
      "cell_type": "code",
      "execution_count": 8,
      "metadata": {
        "id": "clIR0i88g1-v",
        "colab": {
          "base_uri": "https://localhost:8080/"
        },
        "outputId": "43cc66ac-7d0d-4223-c67b-db4c13c5b7cd"
      },
      "outputs": [
        {
          "output_type": "execute_result",
          "data": {
            "text/plain": [
              "[2, 3, 7, 4, 9, 0, 0]"
            ]
          },
          "metadata": {},
          "execution_count": 8
        }
      ],
      "source": [
        "ls = [2, 3, 7, 4, 9, 0] #list 생성\n",
        "ls.append(0) # 가장 뒤에 추가\n",
        "ls"
      ]
    },
    {
      "cell_type": "markdown",
      "metadata": {
        "id": "8QmmVLsVg1-w"
      },
      "source": [
        "##### 정렬\n",
        "    sort()\n",
        "    - 오름차순/내림차순"
      ]
    },
    {
      "cell_type": "code",
      "execution_count": 10,
      "metadata": {
        "id": "HHqyF6bsg1-w",
        "colab": {
          "base_uri": "https://localhost:8080/"
        },
        "outputId": "a251496c-c039-44a5-f76e-752320b2a2d8"
      },
      "outputs": [
        {
          "output_type": "stream",
          "name": "stdout",
          "text": [
            "[9, 7, 4, 3, 2, 0, 0]\n",
            "[0, 0, 2, 3, 4, 7, 9]\n"
          ]
        }
      ],
      "source": [
        "ls.sort(reverse=True)\n",
        "print(ls)\n",
        "ls.sort(reverse=False)\n",
        "print(ls)"
      ]
    },
    {
      "cell_type": "markdown",
      "metadata": {
        "id": "vSloXl5ng1-x"
      },
      "source": [
        "#### 삭제(뽑기)\n",
        "    pop()\n",
        "        기본값 : 리스트 마지막 항목을 뽑아낸다\n",
        "    list.pop(index)\n",
        "        index를 입력하면 해당 index 순서에 있는 항목을 뽑아낸다\n",
        "        pop으로 뽑힌 데이터는 다른 변수에 저장이 가능\n",
        "        뽑힌 데이터는 list에서 삭제되어 있음\n"
      ]
    },
    {
      "cell_type": "code",
      "execution_count": 11,
      "metadata": {
        "id": "r_yY9GjPg1-x",
        "colab": {
          "base_uri": "https://localhost:8080/"
        },
        "outputId": "d5afe310-8e90-4178-8cae-1f6af7679b04"
      },
      "outputs": [
        {
          "output_type": "stream",
          "name": "stdout",
          "text": [
            "[0, 0, 2, 3, 4, 7, 9]\n",
            "9 [0, 0, 2, 3, 4, 7]\n"
          ]
        }
      ],
      "source": [
        "print(ls)\n",
        "print(ls.pop(), ls)\n"
      ]
    },
    {
      "cell_type": "code",
      "execution_count": 12,
      "metadata": {
        "id": "sAJMVQFxg1-y",
        "colab": {
          "base_uri": "https://localhost:8080/"
        },
        "outputId": "ab000b0c-fc05-45a5-b009-b45322821ffc"
      },
      "outputs": [
        {
          "output_type": "execute_result",
          "data": {
            "text/plain": [
              "(0, [0, 2, 3, 4, 7])"
            ]
          },
          "metadata": {},
          "execution_count": 12
        }
      ],
      "source": [
        "ls.pop(1), ls\n"
      ]
    },
    {
      "cell_type": "code",
      "execution_count": 16,
      "metadata": {
        "id": "3VTT1Lyig1-y",
        "colab": {
          "base_uri": "https://localhost:8080/"
        },
        "outputId": "79485b16-62aa-483b-ea73-38ae3e4ceb5f"
      },
      "outputs": [
        {
          "output_type": "execute_result",
          "data": {
            "text/plain": [
              "(4, [7])"
            ]
          },
          "metadata": {},
          "execution_count": 16
        }
      ],
      "source": [
        "b = ls.pop(0)\n",
        "b, ls"
      ]
    },
    {
      "cell_type": "markdown",
      "source": [
        "#### 뽑아내지 않고 삭제하는 방법\n",
        "    del list[index]"
      ],
      "metadata": {
        "id": "CmcIM0CShihO"
      }
    },
    {
      "cell_type": "code",
      "execution_count": 19,
      "metadata": {
        "id": "XEosj1kgg1-y",
        "colab": {
          "base_uri": "https://localhost:8080/",
          "height": 183
        },
        "outputId": "35664345-6a2c-4a8d-bf4f-5c6d3208c5ef"
      },
      "outputs": [
        {
          "output_type": "error",
          "ename": "IndexError",
          "evalue": "ignored",
          "traceback": [
            "\u001b[0;31m---------------------------------------------------------------------------\u001b[0m",
            "\u001b[0;31mIndexError\u001b[0m                                Traceback (most recent call last)",
            "\u001b[0;32m<ipython-input-19-e8c18f74ca21>\u001b[0m in \u001b[0;36m<module>\u001b[0;34m()\u001b[0m\n\u001b[0;32m----> 1\u001b[0;31m \u001b[0;32mdel\u001b[0m \u001b[0mls\u001b[0m\u001b[0;34m[\u001b[0m\u001b[0;36m1\u001b[0m\u001b[0;34m]\u001b[0m\u001b[0;34m\u001b[0m\u001b[0;34m\u001b[0m\u001b[0m\n\u001b[0m\u001b[1;32m      2\u001b[0m \u001b[0mls\u001b[0m\u001b[0;34m\u001b[0m\u001b[0;34m\u001b[0m\u001b[0m\n",
            "\u001b[0;31mIndexError\u001b[0m: list assignment index out of range"
          ]
        }
      ],
      "source": [
        "del ls[1]\n",
        "ls"
      ]
    },
    {
      "cell_type": "markdown",
      "metadata": {
        "id": "v2oFn4cPg1-y"
      },
      "source": [
        "#### 리스트 타입의 복사\n",
        "    copy()\n",
        "\n",
        "- 얕은 복사(shallow copy) <br/>\n",
        "  메모리 주소만 복사한 것으로 새로운 값을 적용하면 원래 메모리 참조 값을 가져온다.\n",
        "\n",
        "- 깊은 복사(deep copy) <br/>\n",
        "  copy.deepcopy 메소드로 사용 가능하다.\n",
        "  새로운 메모리 값을 사용하므로 다른 주소 값이 할당된다.\n",
        "\n",
        "-얕은 복사와 깊은 복사의 구분은 list, set, dictionary와 같은 가변 객체에 해당하여 적용한다."
      ]
    },
    {
      "cell_type": "code",
      "execution_count": 21,
      "metadata": {
        "id": "QmnrbDXng1-z",
        "colab": {
          "base_uri": "https://localhost:8080/"
        },
        "outputId": "f023ee89-d05d-4877-8049-8bff8e0252c8"
      },
      "outputs": [
        {
          "output_type": "execute_result",
          "data": {
            "text/plain": [
              "([1, 2, 5], [1, 2, 5])"
            ]
          },
          "metadata": {},
          "execution_count": 21
        }
      ],
      "source": [
        "ls1 = [1, 2, 3]\n",
        "ls2 = ls1 #ls2는 ls1의 주소값을 복사\n",
        "ls1[2] = 5 #ls1의 값을 변형하면..?\n",
        "ls1, ls2 #얕은 복사"
      ]
    },
    {
      "cell_type": "code",
      "execution_count": 23,
      "metadata": {
        "id": "zx8PXNOXg1-z",
        "colab": {
          "base_uri": "https://localhost:8080/"
        },
        "outputId": "d419792b-c9ee-45bb-f89e-d445e8271fae"
      },
      "outputs": [
        {
          "output_type": "execute_result",
          "data": {
            "text/plain": [
              "([1, 2, 6], [1, 2, 5])"
            ]
          },
          "metadata": {},
          "execution_count": 23
        }
      ],
      "source": [
        "import copy\n",
        "ls3 = copy.deepcopy(ls1)\n",
        "ls1[2] = 6\n",
        "ls1, ls3"
      ]
    }
  ],
  "metadata": {
    "kernelspec": {
      "display_name": "Python 3",
      "language": "python",
      "name": "python3"
    },
    "language_info": {
      "codemirror_mode": {
        "name": "ipython",
        "version": 3
      },
      "file_extension": ".py",
      "mimetype": "text/x-python",
      "name": "python",
      "nbconvert_exporter": "python",
      "pygments_lexer": "ipython3",
      "version": "3.8.5"
    },
    "toc": {
      "base_numbering": 1,
      "nav_menu": {},
      "number_sections": true,
      "sideBar": true,
      "skip_h1_title": false,
      "title_cell": "Table of Contents",
      "title_sidebar": "Contents",
      "toc_cell": false,
      "toc_position": {},
      "toc_section_display": true,
      "toc_window_display": false
    },
    "colab": {
      "name": "lesson 02. list type.ipynb",
      "provenance": [],
      "collapsed_sections": [],
      "include_colab_link": true
    }
  },
  "nbformat": 4,
  "nbformat_minor": 0
}